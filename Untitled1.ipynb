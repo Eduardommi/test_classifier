{
 "cells": [
  {
   "cell_type": "code",
   "execution_count": 136,
   "id": "dbb6bec6-06dd-49f6-a1e9-9bf347354b30",
   "metadata": {},
   "outputs": [],
   "source": [
    "from sklearn.datasets import make_classification\n",
    "from sklearn.model_selection import train_test_split, cross_val_score\n",
    "from sklearn.metrics import ConfusionMatrixDisplay, confusion_matrix, f1_score\n",
    "\n",
    "from lightgbm import LGBMClassifier\n",
    "\n",
    "from hyperopt import tpe, hp, fmin, STATUS_OK, Trials\n",
    "from hyperopt.pyll.base import scope\n",
    "\n",
    "import matplotlib.pyplot as plt\n",
    "\n",
    "import numpy as np"
   ]
  },
  {
   "cell_type": "code",
   "execution_count": 224,
   "id": "5e711c65-9f55-4f40-8ef5-8de223609625",
   "metadata": {},
   "outputs": [],
   "source": [
    "X, y = make_classification(n_samples=100000,\n",
    "                           n_features=20,\n",
    "                           n_classes=3,\n",
    "                           n_redundant=15,\n",
    "                           n_informative=3,\n",
    "                           weights=[0.25, 0.40, 0.35],\n",
    "                           class_sep=0.001,\n",
    "                           flip_y=0.5,\n",
    "                           hypercube=False)"
   ]
  },
  {
   "cell_type": "code",
   "execution_count": 225,
   "id": "c4f5f134-75e6-495b-9356-f4ab91c31c2b",
   "metadata": {},
   "outputs": [
    {
     "data": {
      "text/plain": [
       "array([0, 2, 2, ..., 0, 0, 1])"
      ]
     },
     "execution_count": 225,
     "metadata": {},
     "output_type": "execute_result"
    }
   ],
   "source": [
    "y.astype(int, copy=False)"
   ]
  },
  {
   "cell_type": "code",
   "execution_count": 226,
   "id": "4d70553a-9bd0-4393-879a-255d78d24fbf",
   "metadata": {},
   "outputs": [],
   "source": [
    "X_train, X_test, y_train, y_test = train_test_split(X, y, test_size=0.33, random_state=42)"
   ]
  },
  {
   "cell_type": "code",
   "execution_count": 227,
   "id": "7ab2b765-da43-45b6-b35c-c6ab2dd6d0d6",
   "metadata": {},
   "outputs": [],
   "source": [
    "model = LGBMClassifier()"
   ]
  },
  {
   "cell_type": "code",
   "execution_count": 228,
   "id": "1748a0fc-25f7-4281-bcf5-baf9c60b9399",
   "metadata": {},
   "outputs": [
    {
     "data": {
      "text/plain": [
       "LGBMClassifier()"
      ]
     },
     "execution_count": 228,
     "metadata": {},
     "output_type": "execute_result"
    }
   ],
   "source": [
    "model.fit(X_train, y_train)"
   ]
  },
  {
   "cell_type": "code",
   "execution_count": 229,
   "id": "50fb2bad-f180-4d86-9073-247710b9ed76",
   "metadata": {},
   "outputs": [],
   "source": [
    "def conf_matrix(model, y, X):\n",
    "    m = confusion_matrix(y, model.predict(X))\n",
    "    disp = ConfusionMatrixDisplay(m)\n",
    "    disp.plot()\n",
    "    plt.show()\n",
    "    \n",
    "    print(f'F1 score: {f1_score(y, model.predict(X), average=\"weighted\")}')"
   ]
  },
  {
   "cell_type": "code",
   "execution_count": 230,
   "id": "6e2ae2fd-b222-47ce-96a7-a8a716024fbd",
   "metadata": {},
   "outputs": [
    {
     "data": {
      "image/png": "[encoded data removed]",
      "text/plain": [
       "<Figure size 432x288 with 2 Axes>"
      ]
     },
     "metadata": {
      "needs_background": "light"
     },
     "output_type": "display_data"
    },
    {
     "name": "stdout",
     "output_type": "stream",
     "text": [
      "F1 score: 0.5613981053772364\n"
     ]
    }
   ],
   "source": [
    "conf_matrix(model, y_train, X_train)"
   ]
  },
  {
   "cell_type": "code",
   "execution_count": 231,
   "id": "bd1e057f-7f47-47a6-b3c7-4599a18abe79",
   "metadata": {},
   "outputs": [
    {
     "data": {
      "image/png": "[encoded data removed]",
      "text/plain": [
       "<Figure size 432x288 with 2 Axes>"
      ]
     },
     "metadata": {
      "needs_background": "light"
     },
     "output_type": "display_data"
    },
    {
     "name": "stdout",
     "output_type": "stream",
     "text": [
      "F1 score: 0.5170202848929586\n"
     ]
    }
   ],
   "source": [
    "conf_matrix(model, y_test, X_test)"
   ]
  },
  {
   "cell_type": "code",
   "execution_count": null,
   "id": "b1ae6cd2-c947-4867-84f4-2aee9fffad7d",
   "metadata": {},
   "outputs": [],
   "source": []
  },
  {
   "cell_type": "code",
   "execution_count": null,
   "id": "34157d2e-6ec3-4c0b-bb4d-08e3a4f57f9b",
   "metadata": {},
   "outputs": [],
   "source": []
  },
  {
   "cell_type": "code",
   "execution_count": null,
   "id": "77b8b8c1-6762-491f-9c6a-7e16908d9441",
   "metadata": {},
   "outputs": [],
   "source": []
  },
  {
   "cell_type": "code",
   "execution_count": 232,
   "id": "ee94100c-920a-4c1d-b6c8-10d87a9fef19",
   "metadata": {},
   "outputs": [],
   "source": [
    "space = {\n",
    "    \"n_estimators\": hp.choice(\"n_estimators\", [100, 200, 300, 400, 500, 600]),\n",
    "    \"max_depth\": hp.choice('max_depth', np.arange(2, 15, dtype=int)),\n",
    "    \"num_leaves\": hp.choice('num_leaves', np.arange(2, 15, dtype=int)),\n",
    "    \"learning_rate\": hp.choice(\"learning_rate\", [0.0001, 0.001, 0.01, 0.1]),\n",
    "    \"reg_alpha\": hp.quniform(\"reg_alpha\", 1, 10, 1),\n",
    "    \"reg_lambda\": hp.quniform(\"reg_lambda\", 1, 10, 1),\n",
    "    \"colsample_bytree\": hp.uniform('colsample_bytree', 0.01, 1),\n",
    "    \"subsample\": hp.uniform('subsample', 0.01, 1),\n",
    "}"
   ]
  },
  {
   "cell_type": "code",
   "execution_count": 233,
   "id": "6181f36c-cb55-4ce9-8e7c-6c1996ecb939",
   "metadata": {},
   "outputs": [],
   "source": [
    "def hyperparameter_tuning(params):\n",
    "    clf = LGBMClassifier(**params,n_jobs=-1, random_state=42)\n",
    "    acc = cross_val_score(clf, X_train, y_train, cv=10, scoring=\"f1_macro\").mean()\n",
    "    return {\"loss\": -acc, \"status\": STATUS_OK}"
   ]
  },
  {
   "cell_type": "code",
   "execution_count": 234,
   "id": "eb07803f-45d0-4b11-b203-5915dea66dbb",
   "metadata": {},
   "outputs": [],
   "source": [
    "trials = Trials()"
   ]
  },
  {
   "cell_type": "code",
   "execution_count": 235,
   "id": "c429978a-8984-4948-80fb-fb980fe1f10c",
   "metadata": {},
   "outputs": [
    {
     "name": "stdout",
     "output_type": "stream",
     "text": [
      "100%|████████| 50/50 [09:59<00:00, 11.99s/trial, best loss: -0.5124170875815146]\n"
     ]
    }
   ],
   "source": [
    "best = fmin(\n",
    "    fn=hyperparameter_tuning,\n",
    "    space = space, \n",
    "    algo=tpe.suggest, \n",
    "    max_evals=50,\n",
    "    trials=trials\n",
    ")"
   ]
  },
  {
   "cell_type": "code",
   "execution_count": 236,
   "id": "c148fb33-51ec-478f-9455-6a38cb430169",
   "metadata": {},
   "outputs": [
    {
     "name": "stdout",
     "output_type": "stream",
     "text": [
      "Best: {'colsample_bytree': 0.7016478204833989, 'learning_rate': 3, 'max_depth': 10, 'n_estimators': 2, 'num_leaves': 9, 'reg_alpha': 5.0, 'reg_lambda': 7.0, 'subsample': 0.9791416326660004}\n"
     ]
    }
   ],
   "source": [
    "print(\"Best: {}\".format(best))"
   ]
  },
  {
   "cell_type": "code",
   "execution_count": 238,
   "id": "2e7d00d2-2800-445d-b3f8-2591d9dc0bca",
   "metadata": {},
   "outputs": [],
   "source": [
    "model2 = LGBMClassifier(n_estimators=300,\n",
    "                        max_depth=11, \n",
    "                        num_leaves=10,\n",
    "                        learning_rate=0.1,\n",
    "                        reg_alpha=5,\n",
    "                        reg_lambda=7,\n",
    "                        colsample_bytree=0.7016478204833989,\n",
    "                        subsample=0.9791416326660004,\n",
    "                        n_jobs=-1, random_state=42)"
   ]
  },
  {
   "cell_type": "code",
   "execution_count": 239,
   "id": "261b1201-c85f-4afc-ae65-44c76498935f",
   "metadata": {},
   "outputs": [
    {
     "data": {
      "text/plain": [
       "LGBMClassifier(colsample_bytree=0.7016478204833989, max_depth=11,\n",
       "               n_estimators=300, num_leaves=10, random_state=42, reg_alpha=5,\n",
       "               reg_lambda=7, subsample=0.9791416326660004)"
      ]
     },
     "execution_count": 239,
     "metadata": {},
     "output_type": "execute_result"
    }
   ],
   "source": [
    "model2.fit(X_train, y_train)"
   ]
  },
  {
   "cell_type": "code",
   "execution_count": 240,
   "id": "5880bad5-f13d-4e6e-a751-dc57bf7e929c",
   "metadata": {},
   "outputs": [
    {
     "data": {
      "image/png": "[encoded data removed]",
      "text/plain": [
       "<Figure size 432x288 with 2 Axes>"
      ]
     },
     "metadata": {
      "needs_background": "light"
     },
     "output_type": "display_data"
    },
    {
     "name": "stdout",
     "output_type": "stream",
     "text": [
      "F1 score: 0.5613981053772364\n"
     ]
    }
   ],
   "source": [
    "conf_matrix(model, y_train, X_train)"
   ]
  },
  {
   "cell_type": "code",
   "execution_count": 241,
   "id": "e33240d9-c33b-4bbc-a396-940839ac2179",
   "metadata": {},
   "outputs": [
    {
     "data": {
      "image/png": "[encoded data removed]",
      "text/plain": [
       "<Figure size 432x288 with 2 Axes>"
      ]
     },
     "metadata": {
      "needs_background": "light"
     },
     "output_type": "display_data"
    },
    {
     "name": "stdout",
     "output_type": "stream",
     "text": [
      "F1 score: 0.5157575333841644\n"
     ]
    }
   ],
   "source": [
    "conf_matrix(model2, y_test, X_test)"
   ]
  },
  {
   "cell_type": "code",
   "execution_count": null,
   "id": "2ce59b29-67b1-4df2-a802-8932cc7fadb0",
   "metadata": {},
   "outputs": [],
   "source": []
  }
 ],
 "metadata": {
  "kernelspec": {
   "display_name": "Python 3 (ipykernel)",
   "language": "python",
   "name": "python3"
  },
  "language_info": {
   "codemirror_mode": {
    "name": "ipython",
    "version": 3
   },
   "file_extension": ".py",
   "mimetype": "text/x-python",
   "name": "python",
   "nbconvert_exporter": "python",
   "pygments_lexer": "ipython3",
   "version": "3.8.10"
  }
 },
 "nbformat": 4,
 "nbformat_minor": 5
}
